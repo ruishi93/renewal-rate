{
 "cells": [
  {
   "cell_type": "markdown",
   "metadata": {},
   "source": [
    "#######\n",
    "\n",
    "使用因子分解机（Factorization machines, FM）来获取更丰富的解释性——除了独立特征外，能得到交叉特征（2度）共同作用下对续费率的影响权重。\n",
    "\n",
    "适用于类别变量，此处使用了续费率中的4个类别标签，visa_typ_cd(9), delta_lable(7), city(22), level(5)来探索；\n",
    "如果采用FM对续费率继续分析的话，可以将连续变量分桶，转化为类别变量\n",
    "\n",
    "\n",
    "#######"
   ]
  },
  {
   "cell_type": "code",
   "execution_count": 1,
   "metadata": {
    "collapsed": true
   },
   "outputs": [],
   "source": [
    "%matplotlib inline\n",
    "import numpy as np\n",
    "import pandas as pd\n",
    "from random import normalvariate  # 正态分布\n",
    "from sklearn.utils import shuffle\n",
    "from __future__ import division\n",
    "import seaborn as sns\n",
    "import matplotlib.pyplot as plt\n",
    "import time"
   ]
  },
  {
   "cell_type": "markdown",
   "metadata": {},
   "source": [
    "准备数据"
   ]
  },
  {
   "cell_type": "code",
   "execution_count": 2,
   "metadata": {},
   "outputs": [
    {
     "data": {
      "text/html": [
       "<div>\n",
       "<style>\n",
       "    .dataframe thead tr:only-child th {\n",
       "        text-align: right;\n",
       "    }\n",
       "\n",
       "    .dataframe thead th {\n",
       "        text-align: left;\n",
       "    }\n",
       "\n",
       "    .dataframe tbody tr th {\n",
       "        vertical-align: top;\n",
       "    }\n",
       "</style>\n",
       "<table border=\"1\" class=\"dataframe\">\n",
       "  <thead>\n",
       "    <tr style=\"text-align: right;\">\n",
       "      <th></th>\n",
       "      <th>stu_id</th>\n",
       "      <th>visa_typ_cd</th>\n",
       "      <th>usr_visa_strt_tm</th>\n",
       "      <th>usr_visa_end_tm</th>\n",
       "      <th>group</th>\n",
       "      <th>min_time</th>\n",
       "      <th>par_days</th>\n",
       "      <th>actual_day</th>\n",
       "      <th>sub_tol</th>\n",
       "      <th>sub_avg</th>\n",
       "      <th>...</th>\n",
       "      <th>n_pra_ex_avg</th>\n",
       "      <th>n_pra_ex_sd</th>\n",
       "      <th>y</th>\n",
       "      <th>top_schl_id</th>\n",
       "      <th>school</th>\n",
       "      <th>delta_days</th>\n",
       "      <th>year</th>\n",
       "      <th>delta_lable</th>\n",
       "      <th>city</th>\n",
       "      <th>level</th>\n",
       "    </tr>\n",
       "  </thead>\n",
       "  <tbody>\n",
       "    <tr>\n",
       "      <th>0</th>\n",
       "      <td>64005</td>\n",
       "      <td>A</td>\n",
       "      <td>2016-06-19 00:00:00</td>\n",
       "      <td>2016-12-19 23:59:59</td>\n",
       "      <td>1625.0</td>\n",
       "      <td>2016-06-19 09:18:16</td>\n",
       "      <td>91.999994</td>\n",
       "      <td>16</td>\n",
       "      <td>89</td>\n",
       "      <td>0.967391</td>\n",
       "      <td>...</td>\n",
       "      <td>1.30179</td>\n",
       "      <td>0.604235</td>\n",
       "      <td>1.0</td>\n",
       "      <td>432590.0</td>\n",
       "      <td>down</td>\n",
       "      <td>183</td>\n",
       "      <td>2016</td>\n",
       "      <td>6m</td>\n",
       "      <td>beijin</td>\n",
       "      <td>1st</td>\n",
       "    </tr>\n",
       "    <tr>\n",
       "      <th>1</th>\n",
       "      <td>64005</td>\n",
       "      <td>A1</td>\n",
       "      <td>2016-12-24 00:00:00</td>\n",
       "      <td>2017-06-24 23:59:59</td>\n",
       "      <td>1626.0</td>\n",
       "      <td>2016-12-24 20:21:05</td>\n",
       "      <td>91.499994</td>\n",
       "      <td>18</td>\n",
       "      <td>180</td>\n",
       "      <td>1.967213</td>\n",
       "      <td>...</td>\n",
       "      <td>2.05988</td>\n",
       "      <td>0.977961</td>\n",
       "      <td>1.0</td>\n",
       "      <td>436223.0</td>\n",
       "      <td>down</td>\n",
       "      <td>182</td>\n",
       "      <td>2017</td>\n",
       "      <td>6m</td>\n",
       "      <td>linfen</td>\n",
       "      <td>4th</td>\n",
       "    </tr>\n",
       "    <tr>\n",
       "      <th>2</th>\n",
       "      <td>64005</td>\n",
       "      <td>A1</td>\n",
       "      <td>2017-07-01 00:00:00</td>\n",
       "      <td>2017-12-03 22:06:52</td>\n",
       "      <td>2092.0</td>\n",
       "      <td>2017-07-01 21:03:18</td>\n",
       "      <td>77.960718</td>\n",
       "      <td>11</td>\n",
       "      <td>138</td>\n",
       "      <td>1.770122</td>\n",
       "      <td>...</td>\n",
       "      <td>1.44186</td>\n",
       "      <td>0.776597</td>\n",
       "      <td>1.0</td>\n",
       "      <td>434410.0</td>\n",
       "      <td>down</td>\n",
       "      <td>155</td>\n",
       "      <td>2017</td>\n",
       "      <td>6m</td>\n",
       "      <td>beijin</td>\n",
       "      <td>1st</td>\n",
       "    </tr>\n",
       "  </tbody>\n",
       "</table>\n",
       "<p>3 rows × 91 columns</p>\n",
       "</div>"
      ],
      "text/plain": [
       "   stu_id visa_typ_cd     usr_visa_strt_tm      usr_visa_end_tm   group  \\\n",
       "0   64005           A  2016-06-19 00:00:00  2016-12-19 23:59:59  1625.0   \n",
       "1   64005          A1  2016-12-24 00:00:00  2017-06-24 23:59:59  1626.0   \n",
       "2   64005          A1  2017-07-01 00:00:00  2017-12-03 22:06:52  2092.0   \n",
       "\n",
       "              min_time   par_days  actual_day  sub_tol   sub_avg  ...    \\\n",
       "0  2016-06-19 09:18:16  91.999994          16       89  0.967391  ...     \n",
       "1  2016-12-24 20:21:05  91.499994          18      180  1.967213  ...     \n",
       "2  2017-07-01 21:03:18  77.960718          11      138  1.770122  ...     \n",
       "\n",
       "   n_pra_ex_avg  n_pra_ex_sd    y  top_schl_id  school  delta_days  year  \\\n",
       "0       1.30179     0.604235  1.0     432590.0    down         183  2016   \n",
       "1       2.05988     0.977961  1.0     436223.0    down         182  2017   \n",
       "2       1.44186     0.776597  1.0     434410.0    down         155  2017   \n",
       "\n",
       "   delta_lable    city  level  \n",
       "0           6m  beijin    1st  \n",
       "1           6m  linfen    4th  \n",
       "2           6m  beijin    1st  \n",
       "\n",
       "[3 rows x 91 columns]"
      ]
     },
     "execution_count": 2,
     "metadata": {},
     "output_type": "execute_result"
    }
   ],
   "source": [
    "df_data = pd.read_csv('data/all.csv').drop(['Unnamed: 0'], axis=1)\n",
    "df_data.head(3)"
   ]
  },
  {
   "cell_type": "code",
   "execution_count": 3,
   "metadata": {
    "collapsed": true
   },
   "outputs": [],
   "source": [
    "df_features = pd.get_dummies(df_data[['visa_typ_cd', 'delta_lable', 'city', 'level']])\n",
    "features = np.matrix(df_features)\n",
    "target = df_data.y.values"
   ]
  },
  {
   "cell_type": "code",
   "execution_count": 47,
   "metadata": {},
   "outputs": [
    {
     "data": {
      "text/plain": [
       "2nd     198149\n",
       "1st     191605\n",
       "new1     24088\n",
       "4th       8394\n",
       "3rd       7735\n",
       "Name: level, dtype: int64"
      ]
     },
     "execution_count": 47,
     "metadata": {},
     "output_type": "execute_result"
    }
   ],
   "source": [
    "df_data.level.value_counts()"
   ]
  },
  {
   "cell_type": "markdown",
   "metadata": {},
   "source": [
    "-------------"
   ]
  },
  {
   "cell_type": "markdown",
   "metadata": {},
   "source": [
    "# FM算法"
   ]
  },
  {
   "cell_type": "markdown",
   "metadata": {},
   "source": [
    "传统的LR算法，仅能得到独立的特征权重，FM算法可以计算得到交叉特征的权重。在一些情况中是两个特征共同作用影响y。此处没有引入正则化项\n",
    "\n",
    "1.学习算法     \n",
    "目前FM常使用的学习算法有，随机梯度下降（SGD），交替最小二乘法（ALS），马尔科夫蒙特卡洛法（MCMC）。下面使用的是随机梯度下降法。\n",
    "\n",
    "\n",
    "2.优化函数（损失函数）     \n",
    "二分类问题使用logit loss，回归问题使用MSE。在续费率问题中，为二分类问题（续费和不续费），loss为log(1+ exp(-y*y_))"
   ]
  },
  {
   "cell_type": "code",
   "execution_count": 4,
   "metadata": {
    "collapsed": true
   },
   "outputs": [],
   "source": [
    "def sigmoid(inx):\n",
    "    return 1.0/(1+np.exp(-inx))"
   ]
  },
  {
   "cell_type": "code",
   "execution_count": 5,
   "metadata": {
    "collapsed": true
   },
   "outputs": [],
   "source": [
    "'''初始化交叉项\n",
    "input:  n(int)特征的个数\n",
    "        k(int)FM模型的交叉向量维度\n",
    "output: v(mat):交叉项的系数权重\n",
    "'''\n",
    "def initialize_v(n,k):\n",
    "    v = np.mat(np.zeros((n,k)))\n",
    "\n",
    "    for i in range(n):\n",
    "        for j in range(k):\n",
    "        # 利用正态分布生成每一个权重\n",
    "            v[i,j] = normalvariate(0,0.2)   # 均值为0，标准差为0.2\n",
    "    return v"
   ]
  },
  {
   "cell_type": "code",
   "execution_count": 6,
   "metadata": {
    "collapsed": true
   },
   "outputs": [],
   "source": [
    "'''得到预测值\n",
    "input:  dataMatrix(mat)特征\n",
    "        w(int)常数项权重\n",
    "        w0(int)一次项权重\n",
    "        v(float)交叉项权重\n",
    "output: result(list)预测的结果\n",
    "'''\n",
    "def getPrediction(dataMatrix,w0,w,v):\n",
    "    m = np.shape(dataMatrix)[0]\n",
    "    result = []\n",
    "    for i in range(m):\n",
    "        inter_1 = dataMatrix[i]*v\n",
    "        inter_2 = np.multiply(dataMatrix[i],dataMatrix[i])*np.multiply(v,v)  # multiply对应元素相乘\n",
    "        # 完成交叉项\n",
    "        interaction = np.sum(np.multiply(inter_1,inter_1)-inter_2)/2.0\n",
    "        p = w0+dataMatrix[i]*w+interaction  # 计算预测的输出 \n",
    "        pre = sigmoid(p[0,0])\n",
    "        result.append(pre)\n",
    "    return result"
   ]
  },
  {
   "cell_type": "code",
   "execution_count": 7,
   "metadata": {
    "collapsed": true
   },
   "outputs": [],
   "source": [
    "'''计算预测准确性——二分类问题使用logit loss为作为优化标准\n",
    "input:  predict(list)预测值\n",
    "        classLabels(list)标签\n",
    "output: error(float)计算损失函数的值\n",
    "'''\n",
    "def getCost(predict,classLabels):\n",
    "    m = len(predict)\n",
    "    error = 0.0\n",
    "    for i in range(m):\n",
    "        error -= np.log(sigmoid(predict[i]*classLabels[i]))\n",
    "    return error"
   ]
  },
  {
   "cell_type": "code",
   "execution_count": 8,
   "metadata": {
    "collapsed": true
   },
   "outputs": [],
   "source": [
    "'''计算precision-recall-F1\n",
    "input: predict(list)预测值\n",
    "       classLabels(list)标签\n",
    "output: precison(float)\n",
    "        recall(float)\n",
    "        F1(float)\n",
    "'''\n",
    "def getMoreMetric(predict, classLabels):\n",
    "    tp = 0\n",
    "    fp = 0\n",
    "    fn = 0\n",
    "    for i in range(len(predict)):\n",
    "        if (predict[i] > 0.5) & (classLabels[i] == 1.):\n",
    "            tp = tp + 1\n",
    "        elif (predict[i] > 0.5) & (classLabels[i] == 0.):\n",
    "            fp = fp + 1\n",
    "        elif (predict[i] < 0.5) & (classLabels[i] == 1.):\n",
    "            fn = fn + 1\n",
    "    precison = tp / (tp+fp)\n",
    "    recall = tp / (tp+fn)\n",
    "    F1 = 2*(precison * recall) / (precison + recall)\n",
    "    return (precison, recall, F1)"
   ]
  },
  {
   "cell_type": "code",
   "execution_count": 9,
   "metadata": {
    "collapsed": true
   },
   "outputs": [],
   "source": [
    "def stocGradAscent(dataMatrix, classLabels, k, max_iter, alpha):\n",
    "    '''利用随机梯度下降法训练FM模型\n",
    "    input:  dataMatrix(mat)特征\n",
    "            classLabels(mat)标签\n",
    "            k(int)v的维数\n",
    "            max_iter(int)最大迭代次数\n",
    "            alpha(float)学习率\n",
    "    output: w0(float),w(mat),v(mat):权重\n",
    "    '''\n",
    "    m, n = np.shape(dataMatrix)\n",
    "    # 1、初始化参数\n",
    "    w = np.zeros((n, 1))  # 其中n是特征的个数\n",
    "    w0 = 0  # 偏置项\n",
    "    v = initialize_v(n, k)  # 初始化V\n",
    "\n",
    "    # 2、训练\n",
    "    for it in xrange(max_iter):\n",
    "        for x in xrange(m):  # 随机优化，对每一个样本而言的\n",
    "            inter_1 = dataMatrix[x] * v\n",
    "            inter_2 = np.multiply(dataMatrix[x],dataMatrix[x]) * np.multiply(v,v)  # multiply对应元素相乘\n",
    "            # 计算交叉项\n",
    "            interaction = np.sum(np.multiply(inter_1, inter_1) - inter_2) / 2.\n",
    "            p = w0 + dataMatrix[x] * w + interaction  # 计算预测的输出\n",
    "            loss = sigmoid(classLabels[x] * p[0, 0]) - 1\n",
    "            \n",
    "            w0 = w0 - alpha * loss * classLabels[x]   # w0更新\n",
    "            for i in xrange(n):\n",
    "                if dataMatrix[x, i] != 0:\n",
    "                    w[i, 0] = w[i, 0] - alpha * loss * classLabels[x] * dataMatrix[x, i]   # wi更新\n",
    "                    for j in range(k):\n",
    "                        v[i, j] = v[i, j] - alpha * dataMatrix[x, i] * loss * classLabels[0] * (dataMatrix[x, i]*inter_1[0, j] - v[i, j]*dataMatrix[x, i]*dataMatrix[x, i])   # vij更新\n",
    "\n",
    "        # 计算损失函数的值\n",
    "        if it % 10 == 0:\n",
    "            y_ = getPrediction(dataMatrix, w0, w, v)\n",
    "            cost = getCost(y_, classLabels)\n",
    "            accuracy = getAccuracy(y_, classLabels)\n",
    "            precision, recall, F1 = getMoreMetric(y_, classLabels)\n",
    "            print(\"\\t------- iter: \", it, \n",
    "                  \" , cost: \", cost,\n",
    "                  \", accuracy: \", accuracy,\n",
    "                  \", precision: \", precision,\n",
    "                  \", recall: \", recall, \n",
    "                  \", F1: \", F1)\n",
    "\n",
    "    # 3、返回最终的FM模型的参数\n",
    "    return w0, w, v"
   ]
  },
  {
   "cell_type": "code",
   "execution_count": 10,
   "metadata": {
    "collapsed": true
   },
   "outputs": [],
   "source": [
    "'''计算预测准确性\n",
    "input:  predict(list)预测值\n",
    "        classLabels(list)标签\n",
    "output: float(error) / allItem(float)错误率\n",
    "'''    \n",
    "def getAccuracy(predict,classLabels):\n",
    "    m = len(predict)\n",
    "    allItem = 0\n",
    "    error = 0\n",
    "    for i in range(m):\n",
    "        allItem += 1\n",
    "        if float(predict[i]) < 0.5 and classLabels[i] == 1.0:\n",
    "            error += 1\n",
    "        elif float(predict[i]) >= 0.5 and classLabels[i] == 0.0:\n",
    "            error += 1\n",
    "        else:\n",
    "            continue\n",
    "    return float(allItem - error)/allItem"
   ]
  },
  {
   "cell_type": "code",
   "execution_count": 11,
   "metadata": {
    "collapsed": true
   },
   "outputs": [],
   "source": [
    "'''pre-processign the dataset\n",
    "'''\n",
    "df_fm = df_data[['visa_typ_cd', 'delta_lable', 'city', 'level', 'y']]\n",
    "# shuffle data\n",
    "df_fm = shuffle(df_fm).reset_index(drop=True)\n",
    "# split dataset\n",
    "df_test_features = df_fm.iloc[:120000, :-1]\n",
    "df_test_target = df_fm.iloc[:120000, -1]\n",
    "df_train_features = df_fm.iloc[120000:, :-1]\n",
    "df_train_target = df_fm.iloc[120000:, -1]\n",
    "# one-hot\n",
    "df_test_features_oh = pd.get_dummies(df_test_features)\n",
    "df_train_features_oh = pd.get_dummies(df_train_features)"
   ]
  },
  {
   "cell_type": "code",
   "execution_count": 12,
   "metadata": {
    "scrolled": false
   },
   "outputs": [
    {
     "name": "stdout",
     "output_type": "stream",
     "text": [
      "('\\t------- iter: ', 0, ' , cost: ', 187.42326700007206, ', accuracy: ', 0.876, ', precision: ', 0.876, ', recall: ', 1.0, ', F1: ', 0.933901918976546)\n",
      "('\\t------- iter: ', 10, ' , cost: ', 180.1837740051659, ', accuracy: ', 0.876, ', precision: ', 0.876, ', recall: ', 1.0, ', F1: ', 0.933901918976546)\n",
      "('\\t------- iter: ', 20, ' , cost: ', 180.18374432769957, ', accuracy: ', 0.876, ', precision: ', 0.876, ', recall: ', 1.0, ', F1: ', 0.933901918976546)\n",
      "('\\t------- iter: ', 30, ' , cost: ', 180.18374432769957, ', accuracy: ', 0.876, ', precision: ', 0.876, ', recall: ', 1.0, ', F1: ', 0.933901918976546)\n",
      "('\\t------- iter: ', 40, ' , cost: ', 180.18374432769957, ', accuracy: ', 0.876, ', precision: ', 0.876, ', recall: ', 1.0, ', F1: ', 0.933901918976546)\n",
      "('\\t------- iter: ', 50, ' , cost: ', 180.18374432769957, ', accuracy: ', 0.876, ', precision: ', 0.876, ', recall: ', 1.0, ', F1: ', 0.933901918976546)\n",
      "('\\t------- iter: ', 60, ' , cost: ', 180.18374432769957, ', accuracy: ', 0.876, ', precision: ', 0.876, ', recall: ', 1.0, ', F1: ', 0.933901918976546)\n"
     ]
    },
    {
     "name": "stderr",
     "output_type": "stream",
     "text": [
      "/Applications/anaconda/envs/py27/lib/python2.7/site-packages/ipykernel_launcher.py:2: RuntimeWarning: overflow encountered in exp\n",
      "  \n"
     ]
    },
    {
     "name": "stdout",
     "output_type": "stream",
     "text": [
      "('\\t------- iter: ', 70, ' , cost: ', 180.18374432769957, ', accuracy: ', 0.876, ', precision: ', 0.876, ', recall: ', 1.0, ', F1: ', 0.933901918976546)\n",
      "('\\t------- iter: ', 80, ' , cost: ', 180.18374432769957, ', accuracy: ', 0.876, ', precision: ', 0.876, ', recall: ', 1.0, ', F1: ', 0.933901918976546)\n",
      "('\\t------- iter: ', 90, ' , cost: ', 180.18374432769957, ', accuracy: ', 0.876, ', precision: ', 0.876, ', recall: ', 1.0, ', F1: ', 0.933901918976546)\n",
      "('\\t------- iter: ', 100, ' , cost: ', 180.18374432769957, ', accuracy: ', 0.876, ', precision: ', 0.876, ', recall: ', 1.0, ', F1: ', 0.933901918976546)\n",
      "('\\t------- iter: ', 110, ' , cost: ', 180.18374432769957, ', accuracy: ', 0.876, ', precision: ', 0.876, ', recall: ', 1.0, ', F1: ', 0.933901918976546)\n",
      "('\\t------- iter: ', 120, ' , cost: ', 180.18374432769957, ', accuracy: ', 0.876, ', precision: ', 0.876, ', recall: ', 1.0, ', F1: ', 0.933901918976546)\n",
      "('\\t------- iter: ', 130, ' , cost: ', 180.18374432769957, ', accuracy: ', 0.876, ', precision: ', 0.876, ', recall: ', 1.0, ', F1: ', 0.933901918976546)\n",
      "('\\t------- iter: ', 140, ' , cost: ', 180.18374432769957, ', accuracy: ', 0.876, ', precision: ', 0.876, ', recall: ', 1.0, ', F1: ', 0.933901918976546)\n",
      "('\\t------- iter: ', 150, ' , cost: ', 180.18374432769957, ', accuracy: ', 0.876, ', precision: ', 0.876, ', recall: ', 1.0, ', F1: ', 0.933901918976546)\n",
      "('\\t------- iter: ', 160, ' , cost: ', 180.18374432769957, ', accuracy: ', 0.876, ', precision: ', 0.876, ', recall: ', 1.0, ', F1: ', 0.933901918976546)\n",
      "('\\t------- iter: ', 170, ' , cost: ', 180.18374432769957, ', accuracy: ', 0.876, ', precision: ', 0.876, ', recall: ', 1.0, ', F1: ', 0.933901918976546)\n",
      "('\\t------- iter: ', 180, ' , cost: ', 180.18374432769957, ', accuracy: ', 0.876, ', precision: ', 0.876, ', recall: ', 1.0, ', F1: ', 0.933901918976546)\n",
      "('\\t------- iter: ', 190, ' , cost: ', 180.18374432769957, ', accuracy: ', 0.876, ', precision: ', 0.876, ', recall: ', 1.0, ', F1: ', 0.933901918976546)\n",
      "CPU times: user 1min 4s, sys: 743 ms, total: 1min 5s\n",
      "Wall time: 1min 6s\n"
     ]
    }
   ],
   "source": [
    "%time w0, w, v = stocGradAscent(df_train_features_oh.iloc[:500, :].values, df_train_target.iloc[:500].values, 10, 200, 0.01)"
   ]
  },
  {
   "cell_type": "markdown",
   "metadata": {},
   "source": [
    "训练速度较慢，此处仅使用了前500条数据，耗时1min5s\n",
    "\n",
    "w0: 相当于bias       \n",
    "wi: 相当于各特征的权重         \n",
    "v: 相当于交叉项的特征权重       "
   ]
  },
  {
   "cell_type": "code",
   "execution_count": 13,
   "metadata": {},
   "outputs": [
    {
     "data": {
      "text/html": [
       "<div>\n",
       "<style>\n",
       "    .dataframe thead tr:only-child th {\n",
       "        text-align: right;\n",
       "    }\n",
       "\n",
       "    .dataframe thead th {\n",
       "        text-align: left;\n",
       "    }\n",
       "\n",
       "    .dataframe tbody tr th {\n",
       "        vertical-align: top;\n",
       "    }\n",
       "</style>\n",
       "<table border=\"1\" class=\"dataframe\">\n",
       "  <thead>\n",
       "    <tr style=\"text-align: right;\">\n",
       "      <th></th>\n",
       "      <th>visa_typ_cd_A</th>\n",
       "      <th>visa_typ_cd_A1</th>\n",
       "      <th>visa_typ_cd_A2</th>\n",
       "      <th>visa_typ_cd_A3</th>\n",
       "      <th>visa_typ_cd_B</th>\n",
       "      <th>visa_typ_cd_C</th>\n",
       "      <th>visa_typ_cd_D1</th>\n",
       "      <th>visa_typ_cd_D2</th>\n",
       "      <th>visa_typ_cd_D3</th>\n",
       "      <th>delta_lable_1m</th>\n",
       "      <th>...</th>\n",
       "      <th>city_wuxi</th>\n",
       "      <th>city_xian</th>\n",
       "      <th>city_yangzhou</th>\n",
       "      <th>city_yantai</th>\n",
       "      <th>city_zhuhai</th>\n",
       "      <th>level_1st</th>\n",
       "      <th>level_2nd</th>\n",
       "      <th>level_3rd</th>\n",
       "      <th>level_4th</th>\n",
       "      <th>level_new1</th>\n",
       "    </tr>\n",
       "  </thead>\n",
       "  <tbody>\n",
       "    <tr>\n",
       "      <th>weight</th>\n",
       "      <td>0.37437</td>\n",
       "      <td>0.0</td>\n",
       "      <td>0.089051</td>\n",
       "      <td>0.0</td>\n",
       "      <td>0.442062</td>\n",
       "      <td>0.102712</td>\n",
       "      <td>0.001258</td>\n",
       "      <td>0.092569</td>\n",
       "      <td>0.0</td>\n",
       "      <td>0.24407</td>\n",
       "      <td>...</td>\n",
       "      <td>0.004074</td>\n",
       "      <td>0.0</td>\n",
       "      <td>0.135627</td>\n",
       "      <td>0.064602</td>\n",
       "      <td>0.057627</td>\n",
       "      <td>0.330973</td>\n",
       "      <td>0.47884</td>\n",
       "      <td>0.145046</td>\n",
       "      <td>0.059253</td>\n",
       "      <td>0.087911</td>\n",
       "    </tr>\n",
       "  </tbody>\n",
       "</table>\n",
       "<p>1 rows × 43 columns</p>\n",
       "</div>"
      ],
      "text/plain": [
       "        visa_typ_cd_A  visa_typ_cd_A1  visa_typ_cd_A2  visa_typ_cd_A3  \\\n",
       "weight        0.37437             0.0        0.089051             0.0   \n",
       "\n",
       "        visa_typ_cd_B  visa_typ_cd_C  visa_typ_cd_D1  visa_typ_cd_D2  \\\n",
       "weight       0.442062       0.102712        0.001258        0.092569   \n",
       "\n",
       "        visa_typ_cd_D3  delta_lable_1m     ...      city_wuxi  city_xian  \\\n",
       "weight             0.0         0.24407     ...       0.004074        0.0   \n",
       "\n",
       "        city_yangzhou  city_yantai  city_zhuhai  level_1st  level_2nd  \\\n",
       "weight       0.135627     0.064602     0.057627   0.330973    0.47884   \n",
       "\n",
       "        level_3rd  level_4th  level_new1  \n",
       "weight   0.145046   0.059253    0.087911  \n",
       "\n",
       "[1 rows x 43 columns]"
      ]
     },
     "execution_count": 13,
     "metadata": {},
     "output_type": "execute_result"
    }
   ],
   "source": [
    "df_weight = pd.DataFrame(w)\n",
    "df_weight.columns = ['weight']\n",
    "df_weight.index = df_train_features_oh.columns\n",
    "df_weight.T"
   ]
  },
  {
   "cell_type": "code",
   "execution_count": 53,
   "metadata": {
    "scrolled": false
   },
   "outputs": [
    {
     "data": {
      "text/html": [
       "<div>\n",
       "<style>\n",
       "    .dataframe thead tr:only-child th {\n",
       "        text-align: right;\n",
       "    }\n",
       "\n",
       "    .dataframe thead th {\n",
       "        text-align: left;\n",
       "    }\n",
       "\n",
       "    .dataframe tbody tr th {\n",
       "        vertical-align: top;\n",
       "    }\n",
       "</style>\n",
       "<table border=\"1\" class=\"dataframe\">\n",
       "  <thead>\n",
       "    <tr style=\"text-align: right;\">\n",
       "      <th></th>\n",
       "      <th>weight</th>\n",
       "    </tr>\n",
       "  </thead>\n",
       "  <tbody>\n",
       "    <tr>\n",
       "      <th>delta_lable_6m</th>\n",
       "      <td>0.635824</td>\n",
       "    </tr>\n",
       "    <tr>\n",
       "      <th>level_2nd</th>\n",
       "      <td>0.478840</td>\n",
       "    </tr>\n",
       "    <tr>\n",
       "      <th>visa_typ_cd_B</th>\n",
       "      <td>0.442062</td>\n",
       "    </tr>\n",
       "    <tr>\n",
       "      <th>visa_typ_cd_A</th>\n",
       "      <td>0.374370</td>\n",
       "    </tr>\n",
       "    <tr>\n",
       "      <th>level_1st</th>\n",
       "      <td>0.330973</td>\n",
       "    </tr>\n",
       "    <tr>\n",
       "      <th>city_changchun</th>\n",
       "      <td>0.297174</td>\n",
       "    </tr>\n",
       "  </tbody>\n",
       "</table>\n",
       "</div>"
      ],
      "text/plain": [
       "                  weight\n",
       "delta_lable_6m  0.635824\n",
       "level_2nd       0.478840\n",
       "visa_typ_cd_B   0.442062\n",
       "visa_typ_cd_A   0.374370\n",
       "level_1st       0.330973\n",
       "city_changchun  0.297174"
      ]
     },
     "execution_count": 53,
     "metadata": {},
     "output_type": "execute_result"
    }
   ],
   "source": [
    "df_weight.sort_values(by='weight', ascending=False).head(6)"
   ]
  },
  {
   "cell_type": "code",
   "execution_count": 15,
   "metadata": {
    "scrolled": false
   },
   "outputs": [
    {
     "data": {
      "text/plain": [
       "<matplotlib.axes._subplots.AxesSubplot at 0x1a1f8ae750>"
      ]
     },
     "execution_count": 15,
     "metadata": {},
     "output_type": "execute_result"
    },
    {
     "data": {
      "image/png": "[encoded data removed]",
      "text/plain": [
       "<matplotlib.figure.Figure at 0x10f1ba650>"
      ]
     },
     "metadata": {},
     "output_type": "display_data"
    }
   ],
   "source": [
    "plt.rc('figure', figsize=(12,10))\n",
    "df_icp = pd.DataFrame(v * v.T)\n",
    "df_icp.columns = df_weight.index\n",
    "df_icp.index = df_weight.index\n",
    "sns.heatmap(df_icp, cmap='Blues')"
   ]
  },
  {
   "cell_type": "markdown",
   "metadata": {},
   "source": [
    "-----------------------"
   ]
  },
  {
   "cell_type": "markdown",
   "metadata": {},
   "source": [
    "# tensorflow搭建FM"
   ]
  },
  {
   "cell_type": "markdown",
   "metadata": {},
   "source": [
    "为了结果与上面的可对比，此处也使用前500条数据\n",
    "\n",
    "速度上，测试了两种优化器SGD和Adam，耗时分别为0.189s和0.145s，相比自己搭建速度有有大幅提升（1mins5s）\n",
    "\n",
    "结果上，与手动搭建的FM结果比较相似"
   ]
  },
  {
   "cell_type": "code",
   "execution_count": 16,
   "metadata": {},
   "outputs": [
    {
     "name": "stderr",
     "output_type": "stream",
     "text": [
      "/Applications/anaconda/envs/py27/lib/python2.7/site-packages/h5py/__init__.py:34: FutureWarning: Conversion of the second argument of issubdtype from `float` to `np.floating` is deprecated. In future, it will be treated as `np.float64 == np.dtype(float).type`.\n",
      "  from ._conv import register_converters as _register_converters\n"
     ]
    }
   ],
   "source": [
    "import tensorflow as tf"
   ]
  },
  {
   "cell_type": "code",
   "execution_count": 24,
   "metadata": {
    "collapsed": true
   },
   "outputs": [],
   "source": [
    "# prepare data\n",
    "n, p = df_train_features_oh[:500].shape\n",
    "# latent factors\n",
    "k = 10\n",
    "\n",
    "# create placeholder\n",
    "X = tf.placeholder(tf.float32, shape=[None, p])\n",
    "y = tf.placeholder(tf.float32, shape=[None, 1])\n",
    "\n",
    "#  weight\n",
    "w0 = tf.Variable(tf.zeros([1]))\n",
    "w = tf.Variable(tf.zeros([p]))\n",
    "v = tf.Variable(tf.random_normal([k,p], stddev=0.01))\n",
    "\n",
    "# predicition, initialized to 0\n",
    "y_ = tf.Variable(tf.zeros([n, 1]))\n",
    "\n",
    "# FM model\n",
    "linear_term = tf.add(w0, tf.reduce_sum(tf.multiply(w, X), 1, keep_dims=True))\n",
    "pair_interaction = tf.multiply(0.5, \n",
    "                               tf.reduce_sum(\n",
    "                                   tf.subtract(\n",
    "                                       tf.pow(tf.matmul(X, tf.transpose(v)), 2),\n",
    "                                       tf.matmul(tf.pow(X, 2), tf.transpose(tf.pow(v, 2)))),\n",
    "                                1,keep_dims=True))\n",
    "y_ = tf.add(linear_term, pair_interaction)\n",
    "\n",
    "# define loss function:logit loss\n",
    "loss = tf.log(1+ tf.exp(-y*y_))\n",
    "# optimizer\n",
    "optimizer_gd = tf.train.GradientDescentOptimizer(learning_rate=0.01).minimize(loss)\n",
    "optimizer_adam = tf.train.AdamOptimizer(learning_rate=0.01).minimize(loss)"
   ]
  },
  {
   "cell_type": "code",
   "execution_count": 25,
   "metadata": {
    "scrolled": false
   },
   "outputs": [
    {
     "name": "stdout",
     "output_type": "stream",
     "text": [
      "total time is: 0.189884901047\n"
     ]
    }
   ],
   "source": [
    "with tf.Session() as sess:\n",
    "    start = time.time()\n",
    "    init = tf.global_variables_initializer()\n",
    "    sess.run(init)\n",
    "    \n",
    "    w0, w, v, y_, loss, optimizer_ = sess.run([w0, w, v, y_, loss, optimizer_gd], feed_dict={X: df_train_features_oh.iloc[:500].values, y: pd.DataFrame(np.array(df_train_target.iloc[:500], dtype=np.float).reshape(-1,1)).values})\n",
    "    end = time.time()\n",
    "    print \"total time is: %s\" % (end-start)"
   ]
  },
  {
   "cell_type": "code",
   "execution_count": 26,
   "metadata": {
    "scrolled": true
   },
   "outputs": [
    {
     "data": {
      "text/html": [
       "<div>\n",
       "<style>\n",
       "    .dataframe thead tr:only-child th {\n",
       "        text-align: right;\n",
       "    }\n",
       "\n",
       "    .dataframe thead th {\n",
       "        text-align: left;\n",
       "    }\n",
       "\n",
       "    .dataframe tbody tr th {\n",
       "        vertical-align: top;\n",
       "    }\n",
       "</style>\n",
       "<table border=\"1\" class=\"dataframe\">\n",
       "  <thead>\n",
       "    <tr style=\"text-align: right;\">\n",
       "      <th></th>\n",
       "      <th>visa_typ_cd_A</th>\n",
       "      <th>visa_typ_cd_A1</th>\n",
       "      <th>visa_typ_cd_A2</th>\n",
       "      <th>visa_typ_cd_A3</th>\n",
       "      <th>visa_typ_cd_B</th>\n",
       "      <th>visa_typ_cd_C</th>\n",
       "      <th>visa_typ_cd_D1</th>\n",
       "      <th>visa_typ_cd_D2</th>\n",
       "      <th>visa_typ_cd_D3</th>\n",
       "      <th>delta_lable_1m</th>\n",
       "      <th>...</th>\n",
       "      <th>city_wuxi</th>\n",
       "      <th>city_xian</th>\n",
       "      <th>city_yangzhou</th>\n",
       "      <th>city_yantai</th>\n",
       "      <th>city_zhuhai</th>\n",
       "      <th>level_1st</th>\n",
       "      <th>level_2nd</th>\n",
       "      <th>level_3rd</th>\n",
       "      <th>level_4th</th>\n",
       "      <th>level_new1</th>\n",
       "    </tr>\n",
       "  </thead>\n",
       "  <tbody>\n",
       "    <tr>\n",
       "      <th>weight</th>\n",
       "      <td>0.734812</td>\n",
       "      <td>0.0</td>\n",
       "      <td>0.074981</td>\n",
       "      <td>0.0</td>\n",
       "      <td>1.154782</td>\n",
       "      <td>0.074991</td>\n",
       "      <td>0.004999</td>\n",
       "      <td>0.144962</td>\n",
       "      <td>0.0</td>\n",
       "      <td>0.234959</td>\n",
       "      <td>...</td>\n",
       "      <td>0.009998</td>\n",
       "      <td>0.0</td>\n",
       "      <td>0.049985</td>\n",
       "      <td>0.079974</td>\n",
       "      <td>0.104941</td>\n",
       "      <td>0.860004</td>\n",
       "      <td>1.154588</td>\n",
       "      <td>0.059983</td>\n",
       "      <td>0.044995</td>\n",
       "      <td>0.069956</td>\n",
       "    </tr>\n",
       "  </tbody>\n",
       "</table>\n",
       "<p>1 rows × 43 columns</p>\n",
       "</div>"
      ],
      "text/plain": [
       "        visa_typ_cd_A  visa_typ_cd_A1  visa_typ_cd_A2  visa_typ_cd_A3  \\\n",
       "weight       0.734812             0.0        0.074981             0.0   \n",
       "\n",
       "        visa_typ_cd_B  visa_typ_cd_C  visa_typ_cd_D1  visa_typ_cd_D2  \\\n",
       "weight       1.154782       0.074991        0.004999        0.144962   \n",
       "\n",
       "        visa_typ_cd_D3  delta_lable_1m     ...      city_wuxi  city_xian  \\\n",
       "weight             0.0        0.234959     ...       0.009998        0.0   \n",
       "\n",
       "        city_yangzhou  city_yantai  city_zhuhai  level_1st  level_2nd  \\\n",
       "weight       0.049985     0.079974     0.104941   0.860004   1.154588   \n",
       "\n",
       "        level_3rd  level_4th  level_new1  \n",
       "weight   0.059983   0.044995    0.069956  \n",
       "\n",
       "[1 rows x 43 columns]"
      ]
     },
     "execution_count": 26,
     "metadata": {},
     "output_type": "execute_result"
    }
   ],
   "source": [
    "df_weight_tf = pd.DataFrame(w)\n",
    "df_weight_tf.columns = ['weight']\n",
    "df_weight_tf.index = df_train_features_oh.columns\n",
    "df_weight_tf.T"
   ]
  },
  {
   "cell_type": "code",
   "execution_count": 27,
   "metadata": {},
   "outputs": [
    {
     "data": {
      "text/plain": [
       "<matplotlib.axes._subplots.AxesSubplot at 0x1a2b448b10>"
      ]
     },
     "execution_count": 27,
     "metadata": {},
     "output_type": "execute_result"
    },
    {
     "data": {
      "image/png": "[encoded data removed]",
      "text/plain": [
       "<matplotlib.figure.Figure at 0x1a2b448f90>"
      ]
     },
     "metadata": {},
     "output_type": "display_data"
    }
   ],
   "source": [
    "plt.rc('figure', figsize=(18,1))\n",
    "sns.heatmap(df_weight_tf.T, cmap='Blues')"
   ]
  },
  {
   "cell_type": "code",
   "execution_count": 52,
   "metadata": {
    "scrolled": true
   },
   "outputs": [
    {
     "data": {
      "text/html": [
       "<div>\n",
       "<style>\n",
       "    .dataframe thead tr:only-child th {\n",
       "        text-align: right;\n",
       "    }\n",
       "\n",
       "    .dataframe thead th {\n",
       "        text-align: left;\n",
       "    }\n",
       "\n",
       "    .dataframe tbody tr th {\n",
       "        vertical-align: top;\n",
       "    }\n",
       "</style>\n",
       "<table border=\"1\" class=\"dataframe\">\n",
       "  <thead>\n",
       "    <tr style=\"text-align: right;\">\n",
       "      <th></th>\n",
       "      <th>weight</th>\n",
       "    </tr>\n",
       "  </thead>\n",
       "  <tbody>\n",
       "    <tr>\n",
       "      <th>delta_lable_6m</th>\n",
       "      <td>1.599567</td>\n",
       "    </tr>\n",
       "    <tr>\n",
       "      <th>visa_typ_cd_B</th>\n",
       "      <td>1.154782</td>\n",
       "    </tr>\n",
       "    <tr>\n",
       "      <th>level_2nd</th>\n",
       "      <td>1.154588</td>\n",
       "    </tr>\n",
       "    <tr>\n",
       "      <th>city_changchun</th>\n",
       "      <td>0.899691</td>\n",
       "    </tr>\n",
       "    <tr>\n",
       "      <th>level_1st</th>\n",
       "      <td>0.860004</td>\n",
       "    </tr>\n",
       "    <tr>\n",
       "      <th>visa_typ_cd_A</th>\n",
       "      <td>0.734812</td>\n",
       "    </tr>\n",
       "  </tbody>\n",
       "</table>\n",
       "</div>"
      ],
      "text/plain": [
       "                  weight\n",
       "delta_lable_6m  1.599567\n",
       "visa_typ_cd_B   1.154782\n",
       "level_2nd       1.154588\n",
       "city_changchun  0.899691\n",
       "level_1st       0.860004\n",
       "visa_typ_cd_A   0.734812"
      ]
     },
     "execution_count": 52,
     "metadata": {},
     "output_type": "execute_result"
    }
   ],
   "source": [
    "df_weight_tf.sort_values(by='weight', ascending=False).head(6)"
   ]
  },
  {
   "cell_type": "code",
   "execution_count": 31,
   "metadata": {},
   "outputs": [
    {
     "data": {
      "text/plain": [
       "<matplotlib.axes._subplots.AxesSubplot at 0x1a2c341f10>"
      ]
     },
     "execution_count": 31,
     "metadata": {},
     "output_type": "execute_result"
    },
    {
     "data": {
      "image/png": "[encoded data removed]",
      "text/plain": [
       "<matplotlib.figure.Figure at 0x1a2db92510>"
      ]
     },
     "metadata": {},
     "output_type": "display_data"
    }
   ],
   "source": [
    "plt.rc('figure', figsize=(12,10))\n",
    "df_icp_tf = pd.DataFrame(np.matmul(v.T, v))\n",
    "df_icp_tf.columns = df_weight_tf.index\n",
    "df_icp_tf.index = df_weight_tf.index\n",
    "sns.heatmap(df_icp_tf, cmap='Blues')"
   ]
  },
  {
   "cell_type": "code",
   "execution_count": 67,
   "metadata": {
    "scrolled": true
   },
   "outputs": [
    {
     "data": {
      "text/html": [
       "<div>\n",
       "<style>\n",
       "    .dataframe thead tr:only-child th {\n",
       "        text-align: right;\n",
       "    }\n",
       "\n",
       "    .dataframe thead th {\n",
       "        text-align: left;\n",
       "    }\n",
       "\n",
       "    .dataframe tbody tr th {\n",
       "        vertical-align: top;\n",
       "    }\n",
       "</style>\n",
       "<table border=\"1\" class=\"dataframe\">\n",
       "  <thead>\n",
       "    <tr style=\"text-align: right;\">\n",
       "      <th></th>\n",
       "      <th>0</th>\n",
       "    </tr>\n",
       "  </thead>\n",
       "  <tbody>\n",
       "    <tr>\n",
       "      <th>city_huzhou</th>\n",
       "      <td>-0.001534</td>\n",
       "    </tr>\n",
       "    <tr>\n",
       "      <th>delta_lable_6m</th>\n",
       "      <td>-0.001534</td>\n",
       "    </tr>\n",
       "    <tr>\n",
       "      <th>level_2nd</th>\n",
       "      <td>-0.001434</td>\n",
       "    </tr>\n",
       "    <tr>\n",
       "      <th>delta_lable_3ypl</th>\n",
       "      <td>-0.001434</td>\n",
       "    </tr>\n",
       "    <tr>\n",
       "      <th>visa_typ_cd_B</th>\n",
       "      <td>-0.001295</td>\n",
       "    </tr>\n",
       "    <tr>\n",
       "      <th>city_changchun</th>\n",
       "      <td>-0.001190</td>\n",
       "    </tr>\n",
       "  </tbody>\n",
       "</table>\n",
       "</div>"
      ],
      "text/plain": [
       "                         0\n",
       "city_huzhou      -0.001534\n",
       "delta_lable_6m   -0.001534\n",
       "level_2nd        -0.001434\n",
       "delta_lable_3ypl -0.001434\n",
       "visa_typ_cd_B    -0.001295\n",
       "city_changchun   -0.001190"
      ]
     },
     "execution_count": 67,
     "metadata": {},
     "output_type": "execute_result"
    }
   ],
   "source": [
    "pd.DataFrame(df_icp_tf.min()).sort_values(by=[0]).head(6)"
   ]
  },
  {
   "cell_type": "markdown",
   "metadata": {},
   "source": [
    "结果：    \n",
    "A.从独立特征来看，对续费率有比较大影响的因素是：套餐持续时间为6个月，B套餐，二线城市，长春，一线城市，套餐A(手动搭建和tf搭建的结果仅在排序上有略微差别)\n",
    " \n",
    "B.从交叉特征来看，对续费比较有影响的几个交叉因素是\n",
    "  - 手动搭建：\n",
    "     - delta_label_6m\\*visa_typ_cd_A, \n",
    "     - city_shangahi\\*visa_typ_cd_A, \n",
    "     - level_1st\\*visa_typ_cd_A, \n",
    "     - level_1st\\*delta_label_6m, \n",
    "     - delta_label_6m\\*city_shanghai, \n",
    "     - city_shanghai\\*level_1st\n",
    "  - tf搭建：\n",
    "     - delta_label_6m\\*visa_typ_cd_A, \n",
    "     - delta_label_6m\\*visa_typ_cd_B, \n",
    "     - city_changchun\\*visa_typ_cd_A, \n",
    "     - city_changchun\\*visa_typ_cd_B, \n",
    "     - city_changchun\\*delta_label_6m, \n",
    "     - level_2nd\\*visa_typ_cd_B, \n",
    "     - level_2nd\\*delta_label_6m, \n",
    "     - level_2nd\\*city_changchun"
   ]
  },
  {
   "cell_type": "code",
   "execution_count": 48,
   "metadata": {},
   "outputs": [
    {
     "data": {
      "text/html": [
       "<div>\n",
       "<style>\n",
       "    .dataframe thead tr:only-child th {\n",
       "        text-align: right;\n",
       "    }\n",
       "\n",
       "    .dataframe thead th {\n",
       "        text-align: left;\n",
       "    }\n",
       "\n",
       "    .dataframe tbody tr th {\n",
       "        vertical-align: top;\n",
       "    }\n",
       "</style>\n",
       "<table border=\"1\" class=\"dataframe\">\n",
       "  <thead>\n",
       "    <tr style=\"text-align: right;\">\n",
       "      <th></th>\n",
       "      <th>stu_id</th>\n",
       "      <th>visa_typ_cd</th>\n",
       "      <th>usr_visa_strt_tm</th>\n",
       "      <th>usr_visa_end_tm</th>\n",
       "      <th>group</th>\n",
       "      <th>min_time</th>\n",
       "      <th>par_days</th>\n",
       "      <th>actual_day</th>\n",
       "      <th>sub_tol</th>\n",
       "      <th>sub_avg</th>\n",
       "      <th>...</th>\n",
       "      <th>n_pra_ex_avg</th>\n",
       "      <th>n_pra_ex_sd</th>\n",
       "      <th>y</th>\n",
       "      <th>top_schl_id</th>\n",
       "      <th>school</th>\n",
       "      <th>delta_days</th>\n",
       "      <th>year</th>\n",
       "      <th>delta_lable</th>\n",
       "      <th>city</th>\n",
       "      <th>level</th>\n",
       "    </tr>\n",
       "  </thead>\n",
       "  <tbody>\n",
       "    <tr>\n",
       "      <th>0</th>\n",
       "      <td>64005</td>\n",
       "      <td>A</td>\n",
       "      <td>2016-06-19 00:00:00</td>\n",
       "      <td>2016-12-19 23:59:59</td>\n",
       "      <td>1625.0</td>\n",
       "      <td>2016-06-19 09:18:16</td>\n",
       "      <td>91.999994</td>\n",
       "      <td>16</td>\n",
       "      <td>89</td>\n",
       "      <td>0.967391</td>\n",
       "      <td>...</td>\n",
       "      <td>1.30179</td>\n",
       "      <td>0.604235</td>\n",
       "      <td>1.0</td>\n",
       "      <td>432590.0</td>\n",
       "      <td>down</td>\n",
       "      <td>183</td>\n",
       "      <td>2016</td>\n",
       "      <td>6m</td>\n",
       "      <td>beijin</td>\n",
       "      <td>1st</td>\n",
       "    </tr>\n",
       "    <tr>\n",
       "      <th>1</th>\n",
       "      <td>64005</td>\n",
       "      <td>A1</td>\n",
       "      <td>2016-12-24 00:00:00</td>\n",
       "      <td>2017-06-24 23:59:59</td>\n",
       "      <td>1626.0</td>\n",
       "      <td>2016-12-24 20:21:05</td>\n",
       "      <td>91.499994</td>\n",
       "      <td>18</td>\n",
       "      <td>180</td>\n",
       "      <td>1.967213</td>\n",
       "      <td>...</td>\n",
       "      <td>2.05988</td>\n",
       "      <td>0.977961</td>\n",
       "      <td>1.0</td>\n",
       "      <td>436223.0</td>\n",
       "      <td>down</td>\n",
       "      <td>182</td>\n",
       "      <td>2017</td>\n",
       "      <td>6m</td>\n",
       "      <td>linfen</td>\n",
       "      <td>4th</td>\n",
       "    </tr>\n",
       "    <tr>\n",
       "      <th>2</th>\n",
       "      <td>64005</td>\n",
       "      <td>A1</td>\n",
       "      <td>2017-07-01 00:00:00</td>\n",
       "      <td>2017-12-03 22:06:52</td>\n",
       "      <td>2092.0</td>\n",
       "      <td>2017-07-01 21:03:18</td>\n",
       "      <td>77.960718</td>\n",
       "      <td>11</td>\n",
       "      <td>138</td>\n",
       "      <td>1.770122</td>\n",
       "      <td>...</td>\n",
       "      <td>1.44186</td>\n",
       "      <td>0.776597</td>\n",
       "      <td>1.0</td>\n",
       "      <td>434410.0</td>\n",
       "      <td>down</td>\n",
       "      <td>155</td>\n",
       "      <td>2017</td>\n",
       "      <td>6m</td>\n",
       "      <td>beijin</td>\n",
       "      <td>1st</td>\n",
       "    </tr>\n",
       "  </tbody>\n",
       "</table>\n",
       "<p>3 rows × 91 columns</p>\n",
       "</div>"
      ],
      "text/plain": [
       "   stu_id visa_typ_cd     usr_visa_strt_tm      usr_visa_end_tm   group  \\\n",
       "0   64005           A  2016-06-19 00:00:00  2016-12-19 23:59:59  1625.0   \n",
       "1   64005          A1  2016-12-24 00:00:00  2017-06-24 23:59:59  1626.0   \n",
       "2   64005          A1  2017-07-01 00:00:00  2017-12-03 22:06:52  2092.0   \n",
       "\n",
       "              min_time   par_days  actual_day  sub_tol   sub_avg  ...    \\\n",
       "0  2016-06-19 09:18:16  91.999994          16       89  0.967391  ...     \n",
       "1  2016-12-24 20:21:05  91.499994          18      180  1.967213  ...     \n",
       "2  2017-07-01 21:03:18  77.960718          11      138  1.770122  ...     \n",
       "\n",
       "   n_pra_ex_avg  n_pra_ex_sd    y  top_schl_id  school  delta_days  year  \\\n",
       "0       1.30179     0.604235  1.0     432590.0    down         183  2016   \n",
       "1       2.05988     0.977961  1.0     436223.0    down         182  2017   \n",
       "2       1.44186     0.776597  1.0     434410.0    down         155  2017   \n",
       "\n",
       "   delta_lable    city  level  \n",
       "0           6m  beijin    1st  \n",
       "1           6m  linfen    4th  \n",
       "2           6m  beijin    1st  \n",
       "\n",
       "[3 rows x 91 columns]"
      ]
     },
     "execution_count": 48,
     "metadata": {},
     "output_type": "execute_result"
    }
   ],
   "source": [
    "df_data.head(3)"
   ]
  },
  {
   "cell_type": "code",
   "execution_count": null,
   "metadata": {
    "collapsed": true
   },
   "outputs": [],
   "source": []
  }
 ],
 "metadata": {
  "kernelspec": {
   "display_name": "Python 2",
   "language": "python",
   "name": "python2"
  },
  "language_info": {
   "codemirror_mode": {
    "name": "ipython",
    "version": 2
   },
   "file_extension": ".py",
   "mimetype": "text/x-python",
   "name": "python",
   "nbconvert_exporter": "python",
   "pygments_lexer": "ipython2",
   "version": "2.7.13"
  }
 },
 "nbformat": 4,
 "nbformat_minor": 2
}
